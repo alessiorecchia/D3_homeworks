{
 "cells": [
  {
   "cell_type": "markdown",
   "metadata": {},
   "source": [
    "DISCLAIMER: I made some changes and fixes after the debrief yesterday evening (today is 03/18/2021), because I realized I misanderstood something..."
   ]
  },
  {
   "cell_type": "markdown",
   "metadata": {},
   "source": [
    "Here you have a collection of guided exercises for the first class on Python. <br>\n",
    "The exercises are divided by topic, following the topics reviewed during the theory session, and for each topic you have some mandatory exercises, and other optional exercises, which you are invited to do if you still have time after the mandatory exercises. <br>\n",
    "\n",
    "Remember that you have 5 hours to solve these exercises, after which we will review the most interesting exercises together. If you don't finish all the exercises, you can work on them tonightor tomorrow. \n",
    "\n",
    "At the end of the class, we will upload the code with the solutions of the exercises so that you can review them again if needed. If you still have not finished some exercises, try to do them first by yourself, before taking a look at the solutions: you are doing these exercises for yourself, so it is always the best to do them your way first, as it is the fastest way to learn!"
   ]
  },
  {
   "cell_type": "markdown",
   "metadata": {},
   "source": [
    "**Exercise 1.1:** The cover price of a book is 24.95 EUR, but bookstores get a 40 percent discount. Shipping costs 3 EUR for the first copy and 75 cents for each additional copy. **Calculate the total wholesale costs for 60 copies**. "
   ]
  },
  {
   "cell_type": "code",
   "execution_count": 6,
   "metadata": {},
   "outputs": [
    {
     "name": "stdout",
     "output_type": "stream",
     "text": [
      "Total cost: 945.45\n"
     ]
    }
   ],
   "source": [
    "#Your Code Here\n",
    "#Cover price\n",
    "c_price = 24.95\n",
    "\n",
    "#discount multiplicator\n",
    "discount_mult = 1 - 0.4\n",
    "\n",
    "#first copy shipping cost\n",
    "shipping_first = 3\n",
    "\n",
    "#Shipping other copies cost\n",
    "shipping_further = 0.75\n",
    "\n",
    "#nr of copies\n",
    "copies = 60\n",
    "\n",
    "total = copies * c_price * discount_mult + shipping_first + shipping_further * (copies - 1)\n",
    "\n",
    "print(\"Total cost: %.2f\" % total)\n",
    "\n"
   ]
  },
  {
   "cell_type": "markdown",
   "metadata": {},
   "source": [
    "**Exercise 1.2:** When something is wrong with your code, Python will raise errors. Often these will be \"syntax errors\" that signal that something is wrong with the form of your code (e.g., the code in the previous exercise raised a `SyntaxError`). There are also \"runtime errors\", which signal that your code was in itself formally correct, but that something went wrong during the code's execution. A good example is the `ZeroDivisionError`, which indicates that you tried to divide a number by zero (which, as you may know, is not allowed). Try to make Python **raise such a `ZeroDivisionError`.**"
   ]
  },
  {
   "cell_type": "code",
   "execution_count": 17,
   "metadata": {},
   "outputs": [
    {
     "ename": "ZeroDivisionError",
     "evalue": "division by zero",
     "output_type": "error",
     "traceback": [
      "\u001b[0;31m---------------------------------------------------------------------------\u001b[0m",
      "\u001b[0;31mZeroDivisionError\u001b[0m                         Traceback (most recent call last)",
      "\u001b[0;32m<ipython-input-17-53e8f849f8b3>\u001b[0m in \u001b[0;36m<module>\u001b[0;34m\u001b[0m\n\u001b[1;32m      3\u001b[0m \u001b[0;31m#division by 0\u001b[0m\u001b[0;34m\u001b[0m\u001b[0;34m\u001b[0m\u001b[0;34m\u001b[0m\u001b[0m\n\u001b[1;32m      4\u001b[0m \u001b[0;34m\u001b[0m\u001b[0m\n\u001b[0;32m----> 5\u001b[0;31m \u001b[0ma\u001b[0m \u001b[0;34m=\u001b[0m \u001b[0;36m2\u001b[0m \u001b[0;34m/\u001b[0m \u001b[0;36m0\u001b[0m\u001b[0;34m\u001b[0m\u001b[0;34m\u001b[0m\u001b[0m\n\u001b[0m",
      "\u001b[0;31mZeroDivisionError\u001b[0m: division by zero"
     ]
    }
   ],
   "source": [
    "#Your Code Here\n",
    "\n",
    "#division by 0\n",
    "\n",
    "a = 2 / 0"
   ]
  },
  {
   "cell_type": "markdown",
   "metadata": {},
   "source": [
    "**Exercise 5.1**: Create a countdown function that starts at a certain count, and counts down to zero. Instead of zero, print \"Blast off!\". Use a `for` loop. \n"
   ]
  },
  {
   "cell_type": "code",
   "execution_count": 5,
   "metadata": {},
   "outputs": [
    {
     "name": "stdout",
     "output_type": "stream",
     "text": [
      "15\n",
      "14\n",
      "13\n",
      "12\n",
      "11\n",
      "10\n",
      "9\n",
      "8\n",
      "7\n",
      "6\n",
      "5\n",
      "4\n",
      "3\n",
      "2\n",
      "1\n",
      "Blast off!\n"
     ]
    }
   ],
   "source": [
    "# Countdown\n",
    "def countdown():\n",
    "    \"\"\"\n",
    "    20\n",
    "    19\n",
    "    18\n",
    "    17\n",
    "    16\n",
    "    15\n",
    "    14\n",
    "    13\n",
    "    12\n",
    "    11\n",
    "    10\n",
    "    9\n",
    "    8\n",
    "    7\n",
    "    6\n",
    "    5\n",
    "    4\n",
    "    3\n",
    "    2\n",
    "    1\n",
    "    Blast off!\n",
    "    \"\"\"\n",
    "    \n",
    "    start = 15\n",
    "    \n",
    "    for i in range(start, -1, -1):\n",
    "        if i == 0:\n",
    "            print(\"Blast off!\")\n",
    "        else:\n",
    "            print(f\"{i}\")\n",
    "    \n",
    "    return\n",
    "\n",
    "countdown()\n"
   ]
  },
  {
   "cell_type": "markdown",
   "metadata": {},
   "source": [
    "**Exercise 5.2:** Write and test three functions that return the largest, the smallest, and the number of dividables by 3 in a given collection of numbers. Use the algorithm described earlier in the Part 5 lecture :)"
   ]
  },
  {
   "cell_type": "code",
   "execution_count": 1,
   "metadata": {},
   "outputs": [
    {
     "name": "stdout",
     "output_type": "stream",
     "text": [
      "The smallest number is: 4\n",
      "The largest number is: 27\n",
      "The number of dividible by 3 is: 4\n"
     ]
    }
   ],
   "source": [
    "#In the previous version of this code I misanderstood the soecifications:\n",
    "#I thought I was supposed to find the smallest number that was dividible by three (not the smallest at all)\n",
    "#and so on with the largest one. After the debrief I changed the code\n",
    "\n",
    "\n",
    "# Your functions\n",
    "def main():\n",
    "    \"\"\"\n",
    "    a = [2, 4, 6, 12, 15, 99, 100]\n",
    "    100\n",
    "    2\n",
    "    4\n",
    "    \"\"\"\n",
    "    \n",
    "    #list to be passed\n",
    "    numbers = [10, 12, 27, 4, 6, 8, 4, 9]\n",
    "\n",
    "    print(f\"The smallest number is: {smallest(numbers)}\")\n",
    "    print(f\"The largest number is: {largest(numbers)}\")\n",
    "    print(f\"The number of dividible by 3 is: {dividables(numbers)}\")\n",
    "    \n",
    "    return\n",
    "\n",
    "#return the smallest number in a list we pass in\n",
    "def smallest(l):\n",
    "    \n",
    "    #sort the list ascending\n",
    "    l.sort()\n",
    "    \n",
    "    return l[0]\n",
    "\n",
    "#return the largest number in a list we pass in\n",
    "def largest(l):\n",
    "    \n",
    "    #sort the list descending\n",
    "    l.sort(reverse = True)\n",
    "    \n",
    "    return l[0]\n",
    "\n",
    "        \n",
    "#return the number of dividables by 3 in a list we pass in\n",
    "def dividables(l):\n",
    "    \n",
    "    found = 0\n",
    "    \n",
    "    for n in l:\n",
    "        if (n%3 == 0):\n",
    "            found += 1\n",
    "    \n",
    "    return found\n",
    "\n",
    "if __name__ == \"__main__\":\n",
    "    main()\n",
    "    \n",
    "\n",
    "\n"
   ]
  },
  {
   "cell_type": "code",
   "execution_count": null,
   "metadata": {},
   "outputs": [],
   "source": []
  }
 ],
 "metadata": {
  "kernelspec": {
   "display_name": "Python 3",
   "language": "python",
   "name": "python3"
  },
  "language_info": {
   "codemirror_mode": {
    "name": "ipython",
    "version": 3
   },
   "file_extension": ".py",
   "mimetype": "text/x-python",
   "name": "python",
   "nbconvert_exporter": "python",
   "pygments_lexer": "ipython3",
   "version": "3.8.5"
  }
 },
 "nbformat": 4,
 "nbformat_minor": 4
}
